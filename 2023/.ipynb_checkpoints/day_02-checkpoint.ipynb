{
 "cells": [
  {
   "cell_type": "code",
   "execution_count": 13,
   "id": "9a918d55-bd5a-4e48-8cbf-68e92be19e41",
   "metadata": {},
   "outputs": [],
   "source": [
    "import os\n",
    "import re\n",
    "import math\n",
    "from dotenv import load_dotenv\n",
    "from aocd import get_data"
   ]
  },
  {
   "cell_type": "code",
   "execution_count": 14,
   "id": "b72b92ca-2dc9-4703-befd-fdfda8ec859a",
   "metadata": {},
   "outputs": [],
   "source": [
    "load_dotenv()\n",
    "secret_key = os.getenv(\"SECRET_KEY\")\n",
    "os.environ['AOC_SESSION'] = secret_key\n",
    "\n",
    "data = get_data(year=2023, day=2)"
   ]
  },
  {
   "cell_type": "markdown",
   "id": "49814c6d-dd0b-4cb9-8a8c-dfb0f296c651",
   "metadata": {
    "scrolled": true
   },
   "source": [
    "## PART 1\n",
    "As you walk, the Elf shows you a small bag and some cubes which are either red, green, or blue. Each time you play this game,\n",
    "he will hide a secret number of cubes of each color in the bag, and your goal is to figure out information about the number of cubes.\n",
    "\n",
    "To get information, once a bag has been loaded with cubes, the Elf will reach into the bag, grab a handful of random cubes,\n",
    "show them to you, and then put them back in the bag. He'll do this a few times per game.\n",
    "\n",
    "You play several games and record the information from each game (your puzzle input). Each game is listed with its ID number\n",
    "(like the 11 in Game 11: ...) followed by a semicolon-separated list of subsets of cubes that were revealed from the bag\n",
    "(like 3 red, 5 green, 4 blue).\n",
    "\n",
    "For example, the record of a few games might look like this:\n",
    "```\n",
    "Game 1: 3 blue, 4 red; 1 red, 2 green, 6 blue; 2 green\n",
    "Game 2: 1 blue, 2 green; 3 green, 4 blue, 1 red; 1 green, 1 blue\n",
    "Game 3: 8 green, 6 blue, 20 red; 5 blue, 4 red, 13 green; 5 green, 1 red\n",
    "Game 4: 1 green, 3 red, 6 blue; 3 green, 6 red; 3 green, 15 blue, 14 red\n",
    "Game 5: 6 red, 1 blue, 3 green; 2 blue, 1 red, 2 green\n",
    "In game 1, three sets of cubes are revealed from the bag (and then put back again).\n",
    "The first set is 3 blue cubes and 4 red cubes; the second set is 1 red cube, 2 green cubes, and 6 blue cubes;\n",
    "the third set is only 2 green cubes.\n",
    "```\n",
    "The Elf would first like to know which games would have been possible if the bag contained only 12 red cubes, 13 green cubes,\n",
    "and 14 blue cubes?\n",
    "\n",
    "In the example above, games 1, 2, and 5 would have been possible if the bag had been loaded with that configuration.\n",
    "However, game 3 would have been impossible because at one point the Elf showed you 20 red cubes at once;\n",
    "similarly, game 4 would also have been impossible because the Elf showed you 15 blue cubes at once.\n",
    "If you add up the IDs of the games that would have been possible, you get 8.\n",
    "\n",
    "Determine which games would have been possible if the bag had been loaded with only 12 red cubes, 13 green cubes, and 14 blue cubes.\n",
    "What is the sum of the IDs of those games?"
   ]
  },
  {
   "cell_type": "code",
   "execution_count": 33,
   "id": "38d53664-dda4-4825-8bc9-91f062e2d618",
   "metadata": {},
   "outputs": [
    {
     "data": {
      "text/plain": [
       "1931"
      ]
     },
     "execution_count": 33,
     "metadata": {},
     "output_type": "execute_result"
    }
   ],
   "source": [
    "# Specify max values\n",
    "max_values = {'red':12, 'green':13, 'blue':14}\n",
    "\n",
    "def parse_game(game):\n",
    "    game_num = int(game.split(': ')[0].split()[-1])\n",
    "    cubes = game.split(': ')[1].replace(';', ',').split(', ')\n",
    "    return game_num, cubes\n",
    "    \n",
    "def check_game(cubes, max_values):\n",
    "    return all(int(cube.split()[0]) <= max_values[cube.split()[1]] for cube in cubes)\n",
    "\n",
    "def solve_part_1(data, max_values):\n",
    "    answer = 0    \n",
    "    for game in data.splitlines():\n",
    "        game_num, cubes = parse_game(game)\n",
    "        is_possible = check_game(cubes, max_values)\n",
    "        if is_possible:\n",
    "            answer += game_num\n",
    "    return answer\n",
    "\n",
    "solve_part_1(data, max_values)"
   ]
  },
  {
   "cell_type": "markdown",
   "id": "c315b4c7-ff41-4369-8867-fe6cb72ce2f3",
   "metadata": {},
   "source": [
    "# PART 2\n",
    "\n",
    "As you continue your walk, the Elf poses a second question: in each game you played, what is the fewest number of cubes of each color that could have been in the bag to make the game possible?\n",
    "\n",
    "Again consider the example games from earlier:\n",
    "\n",
    "```\n",
    "Game 1: 3 blue, 4 red; 1 red, 2 green, 6 blue; 2 green\n",
    "Game 2: 1 blue, 2 green; 3 green, 4 blue, 1 red; 1 green, 1 blue\n",
    "Game 3: 8 green, 6 blue, 20 red; 5 blue, 4 red, 13 green; 5 green, 1 red\n",
    "Game 4: 1 green, 3 red, 6 blue; 3 green, 6 red; 3 green, 15 blue, 14 red\n",
    "Game 5: 6 red, 1 blue, 3 green; 2 blue, 1 red, 2 green\n",
    "```\n",
    "\n",
    "In game 1, the game could have been played with as few as 4 red, 2 green, and 6 blue cubes. If any color had even one fewer cube, the game would have been impossible.\n",
    "Game 2 could have been played with a minimum of 1 red, 3 green, and 4 blue cubes.\n",
    "Game 3 must have been played with at least 20 red, 13 green, and 6 blue cubes.\n",
    "Game 4 required at least 14 red, 3 green, and 15 blue cubes.\n",
    "Game 5 needed no fewer than 6 red, 3 green, and 2 blue cubes in the bag.\n",
    "The power of a set of cubes is equal to the numbers of red, green, and blue cubes multiplied together. The power of the minimum set of cubes in game 1 is 48. In games 2-5 it was 12, 1560, 630, and 36, respectively. Adding up these five powers produces the sum 2286.\n",
    "\n",
    "For each game, find the minimum set of cubes that must have been present. What is the sum of the power of these sets?"
   ]
  },
  {
   "cell_type": "code",
   "execution_count": 52,
   "id": "06567549-e8c4-405f-9b1d-001ab7489b93",
   "metadata": {},
   "outputs": [
    {
     "data": {
      "text/plain": [
       "83105"
      ]
     },
     "execution_count": 52,
     "metadata": {},
     "output_type": "execute_result"
    }
   ],
   "source": [
    "def max_game_values(cubes):\n",
    "    max_game_values = {'red':0, 'green':0, 'blue':0}\n",
    "    for cube in cubes:\n",
    "        cube_val, cube_color = int(cube.split()[0]), cube.split()[1]\n",
    "        if cube_val > max_game_values.get(cube_color):\n",
    "            max_game_values[cube_color] = cube_val\n",
    "    return list(max_game_values.values())\n",
    "\n",
    "def solve_part_2(data):\n",
    "    answer = 0    \n",
    "    for game in data.splitlines():\n",
    "        game_num, cubes = parse_game(game)\n",
    "        vals = max_game_values(cubes)\n",
    "        answer += math.prod(vals)\n",
    "    return answer\n",
    "\n",
    "solve_part_2(data)"
   ]
  }
 ],
 "metadata": {
  "kernelspec": {
   "display_name": "Python 3 (ipykernel)",
   "language": "python",
   "name": "python3"
  },
  "language_info": {
   "codemirror_mode": {
    "name": "ipython",
    "version": 3
   },
   "file_extension": ".py",
   "mimetype": "text/x-python",
   "name": "python",
   "nbconvert_exporter": "python",
   "pygments_lexer": "ipython3",
   "version": "3.9.6"
  }
 },
 "nbformat": 4,
 "nbformat_minor": 5
}
