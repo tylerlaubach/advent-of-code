{
 "cells": [
  {
   "cell_type": "code",
   "execution_count": 1,
   "id": "ec0a5bcc",
   "metadata": {},
   "outputs": [
    {
     "name": "stderr",
     "output_type": "stream",
     "text": [
      "/Users/gamec/python_envs/sec-data/lib/python3.9/site-packages/urllib3/__init__.py:35: NotOpenSSLWarning: urllib3 v2 only supports OpenSSL 1.1.1+, currently the 'ssl' module is compiled with 'LibreSSL 2.8.3'. See: https://github.com/urllib3/urllib3/issues/3020\n",
      "  warnings.warn(\n"
     ]
    }
   ],
   "source": [
    "import os\n",
    "import re\n",
    "from dotenv import load_dotenv\n",
    "from aocd import get_data"
   ]
  },
  {
   "cell_type": "code",
   "execution_count": 2,
   "id": "a45fb231-17ad-44bb-bf74-d8323c396750",
   "metadata": {},
   "outputs": [],
   "source": [
    "load_dotenv()\n",
    "secret_key = os.getenv(\"SECRET_KEY\")\n",
    "os.environ['AOC_SESSION'] = secret_key\n",
    "\n",
    "data = get_data(day=1, year=2023)"
   ]
  },
  {
   "cell_type": "code",
   "execution_count": null,
   "id": "d9117e86-e4ff-4f70-84cd-32d1f83626e4",
   "metadata": {},
   "outputs": [],
   "source": [
    "### PART ONE\n",
    "\n",
    "'''\n",
    "The newly-improved calibration document consists of lines of text;\n",
    "each line originally contained a specific calibration value that the Elves now need to recover.\n",
    "On each line, the calibration value can be found by combining the first digit and the last digit (in that order)\n",
    "to form a single two-digit number.\n",
    "\n",
    "For example:\n",
    "\n",
    "1abc2\n",
    "pqr3stu8vwx\n",
    "a1b2c3d4e5f\n",
    "treb7uchet\n",
    "In this example, the calibration values of these four lines are 12, 38, 15, and 77. Adding these together produces 142.\n",
    "\n",
    "Consider your entire calibration document. What is the sum of all of the calibration values?\n",
    "'''"
   ]
  },
  {
   "cell_type": "code",
   "execution_count": 3,
   "id": "bf947d1c-2167-4ab0-932e-4380fd0c5a5d",
   "metadata": {},
   "outputs": [
    {
     "name": "stdout",
     "output_type": "stream",
     "text": [
      "56465\n"
     ]
    }
   ],
   "source": [
    "found_nums = []\n",
    "\n",
    "# Loop through each line\n",
    "for line in data.split():\n",
    "    # Find digits\n",
    "    line_digits = [char for char in line if char.isdigit()]\n",
    "    # Create integer from first and last digit\n",
    "    combined_num = int(line_digits[0] + line_digits[-1])\n",
    "    # Append to found_nums list\n",
    "    found_nums.append(combined_num)\n",
    "\n",
    "# Get sum of all numbers\n",
    "answer = sum(found_nums)\n",
    "print(answer)"
   ]
  },
  {
   "cell_type": "code",
   "execution_count": null,
   "id": "9bb293ce-209a-49d1-867a-f55cfa874132",
   "metadata": {},
   "outputs": [],
   "source": [
    "### PART TWO\n",
    "\n",
    "'''\n",
    "Your calculation isn't quite right.\n",
    "It looks like some of the digits are actually spelled out with letters:\n",
    "one, two, three, four, five, six, seven, eight, and nine also count as valid \"digits\".\n",
    "\n",
    "Equipped with this new information, you now need to find the real first and last digit on each line. For example:\n",
    "\n",
    "two1nine\n",
    "eightwothree\n",
    "abcone2threexyz\n",
    "xtwone3four\n",
    "4nineeightseven2\n",
    "zoneight234\n",
    "7pqrstsixteen\n",
    "In this example, the calibration values are 29, 83, 13, 24, 42, 14, and 76. Adding these together produces 281.\n",
    "\n",
    "What is the sum of all of the calibration values?\n",
    "'''"
   ]
  },
  {
   "cell_type": "code",
   "execution_count": 4,
   "id": "39840636-8f1c-497b-911f-f84bf98f4e2a",
   "metadata": {},
   "outputs": [
    {
     "name": "stdout",
     "output_type": "stream",
     "text": [
      "55902\n"
     ]
    }
   ],
   "source": [
    "# Create digits dictionary. Key = word, value = digit\n",
    "digits = {}\n",
    "digit_words = ['zero','one','two','three','four','five','six','seven','eight','nine']\n",
    "for i, x in enumerate(digit_words):\n",
    "    digits[x] = str(i)\n",
    "\n",
    "found_nums = []\n",
    "\n",
    "# Loop through each line\n",
    "for line in data.split():\n",
    "    # Find digits with index position\n",
    "    line_digits = {}\n",
    "    for i, char in enumerate(line):\n",
    "        if char.isdigit():\n",
    "            line_digits[i] = char\n",
    "    # Find digit words with index position\n",
    "    for digit_word in digits.keys():\n",
    "        matches = re.finditer(digit_word, line)\n",
    "        positions = [match.start() for match in matches]\n",
    "        for position in positions:\n",
    "            line_digits[position] = digits[digit_word]\n",
    "    first_digit = line_digits[min(line_digits)]\n",
    "    last_digit = line_digits[max(line_digits)]\n",
    "    combined_num = int(first_digit + last_digit)\n",
    "    found_nums.append(combined_num)\n",
    "\n",
    "# Get sum of all numbers\n",
    "answer = sum(found_nums)\n",
    "print(answer)"
   ]
  }
 ],
 "metadata": {
  "kernelspec": {
   "display_name": "Python (sec-data)",
   "language": "python",
   "name": "sec-data"
  },
  "language_info": {
   "codemirror_mode": {
    "name": "ipython",
    "version": 3
   },
   "file_extension": ".py",
   "mimetype": "text/x-python",
   "name": "python",
   "nbconvert_exporter": "python",
   "pygments_lexer": "ipython3",
   "version": "3.9.6"
  }
 },
 "nbformat": 4,
 "nbformat_minor": 5
}
