{
 "cells": [
  {
   "cell_type": "code",
   "execution_count": 2,
   "id": "9a918d55-bd5a-4e48-8cbf-68e92be19e41",
   "metadata": {},
   "outputs": [],
   "source": [
    "import os\n",
    "import re\n",
    "import math\n",
    "from dotenv import load_dotenv\n",
    "from aocd import get_data"
   ]
  },
  {
   "cell_type": "code",
   "execution_count": 3,
   "id": "b72b92ca-2dc9-4703-befd-fdfda8ec859a",
   "metadata": {},
   "outputs": [],
   "source": [
    "load_dotenv()\n",
    "secret_key = os.getenv(\"SECRET_KEY\")\n",
    "os.environ['AOC_SESSION'] = secret_key\n",
    "\n",
    "data = get_data(year=2023, day=3)"
   ]
  },
  {
   "cell_type": "markdown",
   "id": "49814c6d-dd0b-4cb9-8a8c-dfb0f296c651",
   "metadata": {
    "scrolled": true
   },
   "source": [
    "# PART 1\n",
    "\n",
    "The engine schematic (your puzzle input) consists of a visual representation of the engine. There are lots of numbers and symbols you don't really understand, but apparently any number adjacent to a symbol, even diagonally, is a \"part number\" and should be included in your sum. (Periods (.) do not count as a symbol.)\n",
    "\n",
    "Here is an example engine schematic:\n",
    "```\n",
    "467..114..\n",
    "...*......\n",
    "..35..633.\n",
    "......#...\n",
    "617*......\n",
    ".....+.58.\n",
    "..592.....\n",
    "......755.\n",
    "...$.*....\n",
    ".664.598..\n",
    "```\n",
    "In this schematic, two numbers are not part numbers because they are not adjacent to a symbol: 114 (top right) and 58 (middle right). Every other number is adjacent to a symbol and so is a part number; their sum is 4361.\n",
    "\n",
    "Of course, the actual engine schematic is much larger. What is the sum of all of the part numbers in the engine schematic?"
   ]
  },
  {
   "cell_type": "code",
   "execution_count": 9,
   "id": "219bea6f",
   "metadata": {},
   "outputs": [
    {
     "name": "stdout",
     "output_type": "stream",
     "text": [
      "556367\n"
     ]
    }
   ],
   "source": [
    "def get_coordinates(data):\n",
    "    numbers = [] # list of tuples: (row, value, [columns])\n",
    "    symbols = [] # list of row/col tuples\n",
    "\n",
    "    for row_num, row in enumerate(data.splitlines()):\n",
    "        # Find numbers\n",
    "        num_matches = list(re.finditer('\\d+', row))\n",
    "        for match in num_matches:\n",
    "            num_val = match.group()\n",
    "            col_vals = [x for x in range(match.start(), match.end())]\n",
    "            # Append to numbers dict\n",
    "            numbers.append((row_num, int(num_val), col_vals))\n",
    "        # Find symbols\n",
    "        symbol_matches = list(re.finditer('[^0-9.]', row))\n",
    "        for match in symbol_matches:\n",
    "            col_num = match.start()\n",
    "            # Append to symbols dict\n",
    "            symbols.append((row_num, col_num))\n",
    "\n",
    "    return numbers, symbols\n",
    "\n",
    "def solve_schematic(numbers, symbols):\n",
    "    nums = []\n",
    "\n",
    "    for num_row, num_val, num_cols in numbers:  # For each row containing numbers\n",
    "        is_adjacent = False\n",
    "        # Check each digit position until we find an adjacent symbol\n",
    "        for num_col in num_cols:\n",
    "            if is_adjacent: break\n",
    "            # Check nearby rows in symbols list\n",
    "            for sym_row, sym_col in symbols:\n",
    "                if sym_row in [num_row-1, num_row, num_row+1] and \\\n",
    "                sym_col in [num_col-1, num_col, num_col+1]:\n",
    "                    nums.append(num_val)\n",
    "                    is_adjacent = True\n",
    "                    break\n",
    "\n",
    "    answer = sum(nums)\n",
    "    return answer\n",
    "\n",
    "numbers, symbols = get_coordinates(data)\n",
    "answer = solve_schematic(numbers, symbols)\n",
    "print(answer)"
   ]
  },
  {
   "cell_type": "markdown",
   "id": "c315b4c7-ff41-4369-8867-fe6cb72ce2f3",
   "metadata": {},
   "source": [
    "# PART 2\n",
    "\n",
    "The missing part wasn't the only issue - one of the gears in the engine is wrong. A gear is any * symbol that is adjacent to exactly two part numbers. Its gear ratio is the result of multiplying those two numbers together.\n",
    "\n",
    "This time, you need to find the gear ratio of every gear and add them all up so that the engineer can figure out which gear needs to be replaced.\n",
    "\n",
    "Consider the same engine schematic again:\n",
    "```\n",
    "467..114..\n",
    "...*......\n",
    "..35..633.\n",
    "......#...\n",
    "617*......\n",
    ".....+.58.\n",
    "..592.....\n",
    "......755.\n",
    "...$.*....\n",
    ".664.598..\n",
    "```\n",
    "In this schematic, there are two gears. The first is in the top left; it has part numbers 467 and 35, so its gear ratio is 16345. The second gear is in the lower right; its gear ratio is 451490. (The * adjacent to 617 is not a gear because it is only adjacent to one part number.) Adding up all of the gear ratios produces 467835.\n",
    "\n",
    "What is the sum of all of the gear ratios in your engine schematic?"
   ]
  },
  {
   "cell_type": "code",
   "execution_count": 10,
   "id": "524dcdf5",
   "metadata": {},
   "outputs": [
    {
     "name": "stdout",
     "output_type": "stream",
     "text": [
      "89471771\n"
     ]
    }
   ],
   "source": [
    "def get_gear_ratios(numbers, symbols):\n",
    "    gears = {} # key=symbol index, val=[adjacent numbers]\n",
    "    for i, coordinates in enumerate(symbols):\n",
    "        sym_row, sym_col = coordinates[0], coordinates[1]\n",
    "        gears[i] = []\n",
    "        # Check each number\n",
    "        for num_row, num_val, num_cols in numbers:\n",
    "            if num_row in [sym_row-1, sym_row, sym_row+1]:\n",
    "                if bool(set([sym_col-1, sym_col, sym_col+1]) & set(num_cols)):\n",
    "                    gears[i].append(num_val)\n",
    "    \n",
    "    ratios = []\n",
    "    for gear in gears:\n",
    "        if len(gears[gear]) == 2:\n",
    "            ratio = gears[gear][0] * gears[gear][1]\n",
    "            ratios.append(ratio)\n",
    "\n",
    "    answer = sum(ratios)\n",
    "    return answer\n",
    "\n",
    "answer = get_gear_ratios(numbers, symbols)\n",
    "print(answer)"
   ]
  }
 ],
 "metadata": {
  "kernelspec": {
   "display_name": "Python 3 (ipykernel)",
   "language": "python",
   "name": "python3"
  },
  "language_info": {
   "codemirror_mode": {
    "name": "ipython",
    "version": 3
   },
   "file_extension": ".py",
   "mimetype": "text/x-python",
   "name": "python",
   "nbconvert_exporter": "python",
   "pygments_lexer": "ipython3",
   "version": "3.9.6"
  }
 },
 "nbformat": 4,
 "nbformat_minor": 5
}
