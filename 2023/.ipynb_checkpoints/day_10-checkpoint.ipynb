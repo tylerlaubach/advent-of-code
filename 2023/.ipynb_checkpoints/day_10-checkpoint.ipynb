{
 "cells": [
  {
   "cell_type": "code",
   "execution_count": 1,
   "id": "9a918d55-bd5a-4e48-8cbf-68e92be19e41",
   "metadata": {},
   "outputs": [],
   "source": [
    "import os\n",
    "from dotenv import load_dotenv\n",
    "from aocd import get_data"
   ]
  },
  {
   "cell_type": "code",
   "execution_count": 2,
   "id": "b72b92ca-2dc9-4703-befd-fdfda8ec859a",
   "metadata": {},
   "outputs": [],
   "source": [
    "load_dotenv()\n",
    "secret_key = os.getenv(\"SECRET_KEY\")\n",
    "os.environ['AOC_SESSION'] = secret_key\n",
    "\n",
    "data = get_data(year=2023, day=9)"
   ]
  },
  {
   "cell_type": "markdown",
   "id": "49814c6d-dd0b-4cb9-8a8c-dfb0f296c651",
   "metadata": {
    "scrolled": true
   },
   "source": [
    "## Part 1\n",
    "The OASIS produces a report of many values and how they are changing over time (your puzzle input). Each line in the report contains the history of a single value. For example:\n",
    "```\n",
    "0 3 6 9 12 15\n",
    "1 3 6 10 15 21\n",
    "10 13 16 21 30 45\n",
    "```\n",
    "To best protect the oasis, your environmental report should include a prediction of the next value in each history. To do this, start by making a new sequence from the difference at each step of your history. If that sequence is not all zeroes, repeat this process, using the sequence you just generated as the input sequence. Once all of the values in your latest sequence are zeroes, you can extrapolate what the next value of the original history should be.\n",
    "\n",
    "In the above dataset, the first history is 0 3 6 9 12 15. Because the values increase by 3 each step, the first sequence of differences that you generate will be 3 3 3 3 3. Note that this sequence has one fewer value than the input sequence because at each step it considers two numbers from the input. Since these values aren't all zero, repeat the process: the values differ by 0 at each step, so the next sequence is 0 0 0 0. This means you have enough information to extrapolate the history! Visually, these sequences can be arranged like this:\n",
    "```\n",
    "0   3   6   9  12  15\n",
    "  3   3   3   3   3\n",
    "    0   0   0   0\n",
    "```\n",
    "To extrapolate, start by adding a new zero to the end of your list of zeroes; because the zeroes represent differences between the two values above them, this also means there is now a placeholder in every sequence above it:\n",
    "```\n",
    "0   3   6   9  12  15   B\n",
    "  3   3   3   3   3   A\n",
    "    0   0   0   0   0\n",
    "```\n",
    "You can then start filling in placeholders from the bottom up. A needs to be the result of increasing 3 (the value to its left) by 0 (the value below it); this means A must be 3:\n",
    "```\n",
    "0   3   6   9  12  15   B\n",
    "  3   3   3   3   3   3\n",
    "    0   0   0   0   0\n",
    "```\n",
    "Finally, you can fill in B, which needs to be the result of increasing 15 (the value to its left) by 3 (the value below it), or 18:\n",
    "```\n",
    "0   3   6   9  12  15  18\n",
    "  3   3   3   3   3   3\n",
    "    0   0   0   0   0\n",
    "```\n",
    "So, the next value of the first history is 18.\n",
    "\n",
    "Finding all-zero differences for the second history requires an additional sequence:\n",
    "```\n",
    "1   3   6  10  15  21\n",
    "  2   3   4   5   6\n",
    "    1   1   1   1\n",
    "      0   0   0\n",
    "```\n",
    "Then, following the same process as before, work out the next value in each sequence from the bottom up:\n",
    "```\n",
    "1   3   6  10  15  21  28\n",
    "  2   3   4   5   6   7\n",
    "    1   1   1   1   1\n",
    "      0   0   0   0\n",
    "```\n",
    "So, the next value of the second history is 28.\n",
    "\n",
    "The third history requires even more sequences, but its next value can be found the same way:\n",
    "```\n",
    "10  13  16  21  30  45  68\n",
    "   3   3   5   9  15  23\n",
    "     0   2   4   6   8\n",
    "       2   2   2   2\n",
    "         0   0   0\n",
    "```\n",
    "So, the next value of the third history is 68.\n",
    "\n",
    "If you find the next value for each history in this example and add them together, you get 114.\n",
    "\n",
    "Analyze your OASIS report and extrapolate the next value for each history. What is the sum of these extrapolated values?"
   ]
  },
  {
   "cell_type": "code",
   "execution_count": 3,
   "id": "6ea0a2cf-c18b-4d66-a35a-b93ee00d38fd",
   "metadata": {},
   "outputs": [],
   "source": [
    "def get_diff(series):\n",
    "    diff = [int(series[i]) - int(series[i-1]) for i in range(1, len(series))]\n",
    "    \n",
    "    return diff\n",
    "\n",
    "def generate_levels(series):\n",
    "    level = 0\n",
    "    curr_series = series\n",
    "    series_levels = {level: curr_series}\n",
    "\n",
    "    while not all(x == 0 for x in curr_series):\n",
    "        level += 1\n",
    "        diff = get_diff(curr_series)\n",
    "        series_levels[level] = diff\n",
    "        curr_series = diff\n",
    "\n",
    "    return series_levels\n",
    "\n",
    "def backpropagate(series_levels):\n",
    "    new_levels = series_levels\n",
    "    if len(new_levels.keys()) == 1:\n",
    "        new_levels[0].append(0)\n",
    "        return new_levels\n",
    "\n",
    "    # Starting at the 2nd-to-last level and working up\n",
    "    for i in list(new_levels.keys())[:-1][::-1]:\n",
    "        # Grab last val from previous level\n",
    "        new_val = new_levels[i+1][-1]\n",
    "        # Append to series\n",
    "        new_levels[i].append(new_levels[i][-1] + new_val)\n",
    "\n",
    "    return new_levels\n",
    "\n",
    "def parse_data(data):\n",
    "    series_dict = {}\n",
    "    for i,line in enumerate(data.splitlines()):\n",
    "        series = [int(x) for x in line.split()]\n",
    "        series_levels = generate_levels(series)\n",
    "        new_levels = backpropagate(series_levels)\n",
    "        series_dict[i] = new_levels\n",
    "    \n",
    "    return series_dict\n",
    "\n",
    "def solve_part1(data):\n",
    "    series_dict = parse_data(data)\n",
    "    return sum([series_dict[i][0][-1] for i in series_dict])"
   ]
  },
  {
   "cell_type": "code",
   "execution_count": 4,
   "id": "5f359e2a-6a63-4e65-99e4-3fcbebfc2b6d",
   "metadata": {},
   "outputs": [
    {
     "data": {
      "text/plain": [
       "2105961943"
      ]
     },
     "execution_count": 4,
     "metadata": {},
     "output_type": "execute_result"
    }
   ],
   "source": [
    "solve_part1(data)"
   ]
  },
  {
   "cell_type": "markdown",
   "id": "b053cde9-de11-49e4-940e-0932f30c09b2",
   "metadata": {},
   "source": [
    "## Part 2\n",
    "Of course, it would be nice to have even more history included in your report. Surely it's safe to just extrapolate backwards as well, right?\n",
    "\n",
    "For each history, repeat the process of finding differences until the sequence of differences is entirely zero. Then, rather than adding a zero to the end and filling in the next values of each previous sequence, you should instead add a zero to the beginning of your sequence of zeroes, then fill in new first values for each previous sequence.\n",
    "\n",
    "In particular, here is what the third example history looks like when extrapolating back in time:\n",
    "```\n",
    "5  10  13  16  21  30  45\n",
    "  5   3   3   5   9  15\n",
    "   -2   0   2   4   6\n",
    "      2   2   2   2\n",
    "        0   0   0\n",
    "```\n",
    "Adding the new values on the left side of each sequence from bottom to top eventually reveals the new left-most history value: 5.\n",
    "\n",
    "Doing this for the remaining example data above results in previous values of -3 for the first history and 0 for the second history. Adding all three new values together produces 2.\n",
    "\n",
    "Analyze your OASIS report again, this time extrapolating the previous value for each history. What is the sum of these extrapolated values?"
   ]
  },
  {
   "cell_type": "code",
   "execution_count": 5,
   "id": "44b3e8bd-079c-4b5b-bee0-b1a5eb16c3d0",
   "metadata": {},
   "outputs": [],
   "source": [
    "def backpropagate_v2(series_levels):\n",
    "    new_levels = series_levels\n",
    "    if len(new_levels.keys()) == 1:\n",
    "        new_levels[0].append(0)\n",
    "        return new_levels\n",
    "\n",
    "    # Starting at the 2nd-to-last level and working up\n",
    "    for i in list(new_levels.keys())[:-1][::-1]:\n",
    "        # Grab first val from previous level\n",
    "        new_val = new_levels[i+1][0]\n",
    "        # Append to FRONT of series\n",
    "        new_levels[i].insert(0, new_levels[i][0] - new_val)\n",
    "\n",
    "    return new_levels\n",
    "\n",
    "def parse_data_v2(data):\n",
    "    series_dict = {}\n",
    "    for i,line in enumerate(data.splitlines()):\n",
    "        series = [int(x) for x in line.split()]\n",
    "        series_levels = generate_levels(series)\n",
    "        new_levels = backpropagate_v2(series_levels)\n",
    "        series_dict[i] = new_levels\n",
    "    \n",
    "    return series_dict\n",
    "\n",
    "def solve_part2(data):\n",
    "    series_dict = parse_data_v2(data)\n",
    "    return sum([series_dict[i][0][0] for i in series_dict])"
   ]
  },
  {
   "cell_type": "code",
   "execution_count": 6,
   "id": "2c99a87f-4909-4096-af20-d1d0ec85c212",
   "metadata": {},
   "outputs": [
    {
     "data": {
      "text/plain": [
       "1019"
      ]
     },
     "execution_count": 6,
     "metadata": {},
     "output_type": "execute_result"
    }
   ],
   "source": [
    "solve_part2(data)"
   ]
  }
 ],
 "metadata": {
  "kernelspec": {
   "display_name": "Python 3 (ipykernel)",
   "language": "python",
   "name": "python3"
  },
  "language_info": {
   "codemirror_mode": {
    "name": "ipython",
    "version": 3
   },
   "file_extension": ".py",
   "mimetype": "text/x-python",
   "name": "python",
   "nbconvert_exporter": "python",
   "pygments_lexer": "ipython3",
   "version": "3.9.6"
  }
 },
 "nbformat": 4,
 "nbformat_minor": 5
}
