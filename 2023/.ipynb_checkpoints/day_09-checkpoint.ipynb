{
 "cells": [
  {
   "cell_type": "code",
   "execution_count": 11,
   "id": "9a918d55-bd5a-4e48-8cbf-68e92be19e41",
   "metadata": {},
   "outputs": [],
   "source": [
    "import os\n",
    "from math import gcd\n",
    "from functools import reduce\n",
    "from dotenv import load_dotenv\n",
    "from aocd import get_data"
   ]
  },
  {
   "cell_type": "code",
   "execution_count": 2,
   "id": "b72b92ca-2dc9-4703-befd-fdfda8ec859a",
   "metadata": {},
   "outputs": [],
   "source": [
    "load_dotenv()\n",
    "secret_key = os.getenv(\"SECRET_KEY\")\n",
    "os.environ['AOC_SESSION'] = secret_key\n",
    "\n",
    "data = get_data(year=2023, day=8)"
   ]
  },
  {
   "cell_type": "markdown",
   "id": "49814c6d-dd0b-4cb9-8a8c-dfb0f296c651",
   "metadata": {
    "scrolled": true
   },
   "source": [
    "## Part 1\n",
    "One of the camel's pouches is labeled \"maps\" - sure enough, it's full of documents (your puzzle input) about how to navigate the desert. At least, you're pretty sure that's what they are; one of the documents contains a list of left/right instructions, and the rest of the documents seem to describe some kind of network of labeled nodes.\n",
    "\n",
    "It seems like you're meant to use the left/right instructions to navigate the network. Perhaps if you have the camel follow the same instructions, you can escape the haunted wasteland!\n",
    "\n",
    "After examining the maps for a bit, two nodes stick out: AAA and ZZZ. You feel like AAA is where you are now, and you have to follow the left/right instructions until you reach ZZZ.\n",
    "\n",
    "This format defines each node of the network individually. For example:\n",
    "```\n",
    "RL\n",
    "\n",
    "AAA = (BBB, CCC)\n",
    "BBB = (DDD, EEE)\n",
    "CCC = (ZZZ, GGG)\n",
    "DDD = (DDD, DDD)\n",
    "EEE = (EEE, EEE)\n",
    "GGG = (GGG, GGG)\n",
    "ZZZ = (ZZZ, ZZZ)\n",
    "```\n",
    "Starting with AAA, you need to look up the next element based on the next left/right instruction in your input. In this example, start with AAA and go right (R) by choosing the right element of AAA, CCC. Then, L means to choose the left element of CCC, ZZZ. By following the left/right instructions, you reach ZZZ in 2 steps.\n",
    "\n",
    "Of course, you might not find ZZZ right away. If you run out of left/right instructions, repeat the whole sequence of instructions as necessary: RL really means RLRLRLRLRLRLRLRL... and so on. For example, here is a situation that takes 6 steps to reach ZZZ:\n",
    "```\n",
    "LLR\n",
    "\n",
    "AAA = (BBB, BBB)\n",
    "BBB = (AAA, ZZZ)\n",
    "ZZZ = (ZZZ, ZZZ)\n",
    "```\n",
    "Starting at AAA, follow the left/right instructions. How many steps are required to reach ZZZ?"
   ]
  },
  {
   "cell_type": "code",
   "execution_count": 5,
   "id": "6ea0a2cf-c18b-4d66-a35a-b93ee00d38fd",
   "metadata": {},
   "outputs": [],
   "source": [
    "def parse_input(data):\n",
    "    instructions = [x for x in data.splitlines()[0]]\n",
    "    nodes = {}\n",
    "    for line in data.splitlines()[2:]:\n",
    "        node, element_data = line.split(' = ')\n",
    "        elements = (element_data[1:4], element_data[-4:-1])\n",
    "        nodes[node] = elements\n",
    "\n",
    "    return instructions, nodes\n",
    "\n",
    "def find_zzz(instructions, nodes):\n",
    "    max_steps = 50000\n",
    "    steps = 0\n",
    "    start_node = 'AAA'\n",
    "    end_node = None\n",
    "    \n",
    "    while end_node != 'ZZZ':\n",
    "        for d in instructions:\n",
    "            steps += 1\n",
    "            if steps >= max_steps: return steps\n",
    "            i = 0 if d == 'L' else 1\n",
    "            end_node = nodes[start_node][i]\n",
    "            start_node = end_node\n",
    "            if end_node == 'ZZZ': break\n",
    "    \n",
    "    return steps\n",
    "\n",
    "def solve_part1(data):\n",
    "    instructions, nodes = parse_input(data)\n",
    "    steps = find_zzz(instructions, nodes)\n",
    "    \n",
    "    return steps"
   ]
  },
  {
   "cell_type": "code",
   "execution_count": 6,
   "id": "5f359e2a-6a63-4e65-99e4-3fcbebfc2b6d",
   "metadata": {},
   "outputs": [
    {
     "data": {
      "text/plain": [
       "13771"
      ]
     },
     "execution_count": 6,
     "metadata": {},
     "output_type": "execute_result"
    }
   ],
   "source": [
    "solve_part1(data)"
   ]
  },
  {
   "cell_type": "markdown",
   "id": "b053cde9-de11-49e4-940e-0932f30c09b2",
   "metadata": {},
   "source": [
    "## Part 2\n",
    "After examining the maps a bit longer, your attention is drawn to a curious fact: the number of nodes with names ending in A is equal to the number ending in Z! If you were a ghost, you'd probably just start at every node that ends with A and follow all of the paths at the same time until they all simultaneously end up at nodes that end with Z.\n",
    "\n",
    "For example:\n",
    "```\n",
    "LR\n",
    "\n",
    "11A = (11B, XXX)\n",
    "11B = (XXX, 11Z)\n",
    "11Z = (11B, XXX)\n",
    "22A = (22B, XXX)\n",
    "22B = (22C, 22C)\n",
    "22C = (22Z, 22Z)\n",
    "22Z = (22B, 22B)\n",
    "XXX = (XXX, XXX)\n",
    "```\n",
    "Here, there are two starting nodes, 11A and 22A (because they both end with A). As you follow each left/right instruction, use that instruction to simultaneously navigate away from both nodes you're currently on. Repeat this process until all of the nodes you're currently on end with Z. (If only some of the nodes you're on end with Z, they act like any other node and you continue as normal.) In this example, you would proceed as follows:\n",
    "```\n",
    "Step 0: You are at 11A and 22A.\n",
    "Step 1: You choose all of the left paths, leading you to 11B and 22B.\n",
    "Step 2: You choose all of the right paths, leading you to 11Z and 22C.\n",
    "Step 3: You choose all of the left paths, leading you to 11B and 22Z.\n",
    "Step 4: You choose all of the right paths, leading you to 11Z and 22B.\n",
    "Step 5: You choose all of the left paths, leading you to 11B and 22C.\n",
    "Step 6: You choose all of the right paths, leading you to 11Z and 22Z.\n",
    "```\n",
    "So, in this example, you end up entirely on nodes that end in Z after 6 steps.\n",
    "\n",
    "Simultaneously start on every node that ends with A. How many steps does it take before you're only on nodes that end with Z?"
   ]
  },
  {
   "cell_type": "code",
   "execution_count": 12,
   "id": "44b3e8bd-079c-4b5b-bee0-b1a5eb16c3d0",
   "metadata": {},
   "outputs": [],
   "source": [
    "def find_z_to_z(instructions, nodes):\n",
    "    start_nodes = [n for n in nodes if n.endswith('A')]\n",
    "    z_steps = []\n",
    "\n",
    "    for start_node in start_nodes:\n",
    "        max_steps = 100000\n",
    "        steps = 0\n",
    "        end_node = 'aaa'\n",
    "        while not end_node.endswith('Z'):\n",
    "            for d in instructions:\n",
    "                steps += 1\n",
    "                if steps >= max_steps:\n",
    "                    return steps\n",
    "                i = 0 if d == 'L' else 1\n",
    "                end_node = nodes[start_node][i]\n",
    "                start_node = end_node\n",
    "                if end_node.endswith('Z'):\n",
    "                    z_steps.append(steps)\n",
    "                    break\n",
    "\n",
    "    return z_steps\n",
    "\n",
    "def lcm(a, b):\n",
    "    return abs(a * b) // gcd(a, b)\n",
    "\n",
    "def lcm_multiple(numbers):\n",
    "    return reduce(lcm, numbers)\n",
    "\n",
    "def solve_part2(data):\n",
    "    instructions, nodes = parse_input(data)\n",
    "    z_steps = find_z_to_z(instructions, nodes)\n",
    "    answer = lcm_multiple(z_steps)\n",
    "\n",
    "    return answer"
   ]
  },
  {
   "cell_type": "code",
   "execution_count": 13,
   "id": "2c99a87f-4909-4096-af20-d1d0ec85c212",
   "metadata": {},
   "outputs": [
    {
     "data": {
      "text/plain": [
       "13129439557681"
      ]
     },
     "execution_count": 13,
     "metadata": {},
     "output_type": "execute_result"
    }
   ],
   "source": [
    "solve_part2(data)"
   ]
  }
 ],
 "metadata": {
  "kernelspec": {
   "display_name": "Python 3 (ipykernel)",
   "language": "python",
   "name": "python3"
  },
  "language_info": {
   "codemirror_mode": {
    "name": "ipython",
    "version": 3
   },
   "file_extension": ".py",
   "mimetype": "text/x-python",
   "name": "python",
   "nbconvert_exporter": "python",
   "pygments_lexer": "ipython3",
   "version": "3.9.6"
  }
 },
 "nbformat": 4,
 "nbformat_minor": 5
}
