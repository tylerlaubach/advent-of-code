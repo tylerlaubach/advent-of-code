{
 "cells": [
  {
   "cell_type": "code",
   "execution_count": 2,
   "id": "ec0a5bcc",
   "metadata": {},
   "outputs": [],
   "source": [
    "import os\n",
    "import re\n",
    "from dotenv import load_dotenv\n",
    "from aocd import get_data"
   ]
  },
  {
   "cell_type": "code",
   "execution_count": 3,
   "id": "a45fb231-17ad-44bb-bf74-d8323c396750",
   "metadata": {},
   "outputs": [],
   "source": [
    "load_dotenv()\n",
    "secret_key = os.getenv(\"SECRET_KEY\")\n",
    "os.environ['AOC_SESSION'] = secret_key\n",
    "\n",
    "data = get_data(day=1, year=2023)"
   ]
  },
  {
   "cell_type": "markdown",
   "id": "8f569111-c6cc-457b-861f-c0ed8177f7c5",
   "metadata": {},
   "source": [
    "## PART 1\n",
    "The newly-improved calibration document consists of lines of text;\n",
    "each line originally contained a specific calibration value that the Elves now need to recover.\n",
    "On each line, the calibration value can be found by combining the first digit and the last digit (in that order)\n",
    "to form a single two-digit number.\n",
    "\n",
    "For example:\n",
    "```\n",
    "1abc2\n",
    "pqr3stu8vwx\n",
    "a1b2c3d4e5f\n",
    "treb7uchet\n",
    "```\n",
    "In this example, the calibration values of these four lines are 12, 38, 15, and 77. Adding these together produces 142.\n",
    "\n",
    "Consider your entire calibration document. What is the sum of all of the calibration values?"
   ]
  },
  {
   "cell_type": "code",
   "execution_count": 9,
   "id": "fb37a1c1-269e-4c44-bf97-4878e49c491d",
   "metadata": {},
   "outputs": [
    {
     "data": {
      "text/plain": [
       "56465"
      ]
     },
     "execution_count": 9,
     "metadata": {},
     "output_type": "execute_result"
    }
   ],
   "source": [
    "def solve_part_1(data):\n",
    "    answer = 0\n",
    "    for line in data.splitlines():\n",
    "        # Find digits\n",
    "        digits = [char for char in line if char.isdigit()]\n",
    "        # Create integer from first and last digit\n",
    "        if digits: # If the line contains digits...\n",
    "            combined_num = int(digits[0] + digits[-1])\n",
    "            # Sum\n",
    "            answer += combined_num\n",
    "    return answer\n",
    "\n",
    "solve_part_1(data)"
   ]
  },
  {
   "cell_type": "markdown",
   "id": "e0df9cc6-7ff9-4d02-9bcd-69b20d9313d8",
   "metadata": {},
   "source": [
    "## PART 2\n",
    "Your calculation isn't quite right.\n",
    "It looks like some of the digits are actually spelled out with letters:\n",
    "one, two, three, four, five, six, seven, eight, and nine also count as valid \"digits\".\n",
    "\n",
    "Equipped with this new information, you now need to find the real first and last digit on each line. For example:\n",
    "```\n",
    "two1nine\n",
    "eightwothree\n",
    "abcone2threexyz\n",
    "xtwone3four\n",
    "4nineeightseven2\n",
    "zoneight234\n",
    "7pqrstsixteen\n",
    "```\n",
    "In this example, the calibration values are 29, 83, 13, 24, 42, 14, and 76. Adding these together produces 281.\n",
    "\n",
    "What is the sum of all of the calibration values?"
   ]
  },
  {
   "cell_type": "code",
   "execution_count": 48,
   "id": "15377885-ae18-4cfa-97e9-51064ddf4dd8",
   "metadata": {},
   "outputs": [
    {
     "data": {
      "text/plain": [
       "55902"
      ]
     },
     "execution_count": 48,
     "metadata": {},
     "output_type": "execute_result"
    }
   ],
   "source": [
    "def solve_part_2(data):\n",
    "    answer = 0\n",
    "    # Create digits dict\n",
    "    digits = {str(i):i for i in range(10)}\n",
    "    digit_words = ['zero','one','two','three','four','five','six','seven','eight','nine']\n",
    "    digits |= {o:i for i,o in enumerate(digit_words)}\n",
    "    for line in data.splitlines():\n",
    "        line_digits = [(match.start(), match.group()) for digit in digits for match in re.finditer(digit, line)]\n",
    "        line_digits.sort()\n",
    "        combined_num = digits.get(line_digits[0][1]) * 10 + digits.get(line_digits[-1][1])\n",
    "        answer += combined_num\n",
    "    return answer\n",
    "\n",
    "solve_part_2(data)"
   ]
  }
 ],
 "metadata": {
  "kernelspec": {
   "display_name": "Python (sec-data)",
   "language": "python",
   "name": "sec-data"
  },
  "language_info": {
   "codemirror_mode": {
    "name": "ipython",
    "version": 3
   },
   "file_extension": ".py",
   "mimetype": "text/x-python",
   "name": "python",
   "nbconvert_exporter": "python",
   "pygments_lexer": "ipython3",
   "version": "3.9.6"
  }
 },
 "nbformat": 4,
 "nbformat_minor": 5
}
