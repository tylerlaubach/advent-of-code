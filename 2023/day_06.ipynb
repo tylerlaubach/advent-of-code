{
 "cells": [
  {
   "cell_type": "code",
   "execution_count": 7,
   "id": "9a918d55-bd5a-4e48-8cbf-68e92be19e41",
   "metadata": {},
   "outputs": [],
   "source": [
    "import os\n",
    "import math\n",
    "from dotenv import load_dotenv\n",
    "from aocd import get_data"
   ]
  },
  {
   "cell_type": "code",
   "execution_count": 2,
   "id": "b72b92ca-2dc9-4703-befd-fdfda8ec859a",
   "metadata": {},
   "outputs": [],
   "source": [
    "load_dotenv()\n",
    "secret_key = os.getenv(\"SECRET_KEY\")\n",
    "os.environ['AOC_SESSION'] = secret_key\n",
    "\n",
    "data = get_data(year=2023, day=6)"
   ]
  },
  {
   "cell_type": "markdown",
   "id": "49814c6d-dd0b-4cb9-8a8c-dfb0f296c651",
   "metadata": {
    "scrolled": true
   },
   "source": [
    "## Part 1\n",
    "As part of signing up, you get a sheet of paper (your puzzle input) that lists the time allowed for each race and also the best distance ever recorded in that race. To guarantee you win the grand prize, you need to make sure you go farther in each race than the current record holder.\n",
    "\n",
    "The organizer brings you over to the area where the boat races are held. The boats are much smaller than you expected - they're actually toy boats, each with a big button on top. Holding down the button charges the boat, and releasing the button allows the boat to move. Boats move faster if their button was held longer, but time spent holding the button counts against the total race time. You can only hold the button at the start of the race, and boats don't move until the button is released.\n",
    "\n",
    "For example:\n",
    "```\n",
    "Time:      7  15   30\n",
    "Distance:  9  40  200\n",
    "```\n",
    "This document describes three races:\n",
    "- The first race lasts 7 milliseconds. The record distance in this race is 9 millimeters.\n",
    "- The second race lasts 15 milliseconds. The record distance in this race is 40 millimeters.\n",
    "- The third race lasts 30 milliseconds. The record distance in this race is 200 millimeters.\n",
    "Your toy boat has a starting speed of zero millimeters per millisecond. For each whole millisecond you spend at the beginning of the race holding down the button, the boat's speed increases by one millimeter per millisecond.\n",
    "\n",
    "So, because the first race lasts 7 milliseconds, you only have a few options:\n",
    "- Don't hold the button at all (that is, hold it for 0 milliseconds) at the start of the race. The boat won't move; it will have traveled 0 millimeters by the end of the race.\n",
    "- Hold the button for 1 millisecond at the start of the race. Then, the boat will travel at a speed of 1 millimeter per millisecond for 6 milliseconds, reaching a total distance traveled of 6 millimeters.\n",
    "- Hold the button for 2 milliseconds, giving the boat a speed of 2 millimeters per millisecond. It will then get 5 milliseconds to move, reaching a total distance of 10 millimeters.\n",
    "- Hold the button for 3 milliseconds. After its remaining 4 milliseconds of travel time, the boat will have gone 12 millimeters.\n",
    "- Hold the button for 4 milliseconds. After its remaining 3 milliseconds of travel time, the boat will have gone 12 millimeters.\n",
    "- Hold the button for 5 milliseconds, causing the boat to travel a total of 10 millimeters.\n",
    "- Hold the button for 6 milliseconds, causing the boat to travel a total of 6 millimeters.\n",
    "- Hold the button for 7 milliseconds. That's the entire duration of the race. You never let go of the button. The boat can't move until you let go of the button. Please make sure you let go of the button so the boat gets to move. 0 millimeters.\n",
    "Since the current record for this race is 9 millimeters, there are actually 4 different ways you could win: you could hold the button for 2, 3, 4, or 5 milliseconds at the start of the race.\n",
    "\n",
    "In the second race, you could hold the button for at least 4 milliseconds and at most 11 milliseconds and beat the record, a total of 8 different ways to win.\n",
    "\n",
    "In the third race, you could hold the button for at least 11 milliseconds and no more than 19 milliseconds and still beat the record, a total of 9 ways you could win.\n",
    "\n",
    "To see how much margin of error you have, determine the number of ways you can beat the record in each race; in this example, if you multiply these values together, you get 288 (4 * 8 * 9).\n",
    "\n",
    "Determine the number of ways you could beat the record in each race. What do you get if you multiply these numbers together?"
   ]
  },
  {
   "cell_type": "code",
   "execution_count": 8,
   "id": "6ea0a2cf-c18b-4d66-a35a-b93ee00d38fd",
   "metadata": {},
   "outputs": [],
   "source": [
    "def parse_races(data):\n",
    "    times = [int(x) for x in data.splitlines()[0].split(':')[1].strip().split()]\n",
    "    distances = [int(x) for x in data.splitlines()[1].split(':')[1].strip().split()]\n",
    "    return times, distances\n",
    "\n",
    "def calculate_wins(time, distance):\n",
    "    wins = 0\n",
    "    for button_duration in range(1, int(time)):\n",
    "        # Calculate distance traveled\n",
    "        distance_traveled = (time - button_duration) * button_duration\n",
    "        # If we don't break the record, check if we should stop counting\n",
    "        if distance_traveled <= distance:\n",
    "            # If we've already observed wins and we didn't win this time, break loop\n",
    "            if wins > 0:\n",
    "                break\n",
    "        # Otherwise, increment our win counter\n",
    "        else:\n",
    "            wins += 1\n",
    "    return wins\n",
    "\n",
    "def process_races(times, distances):\n",
    "    wins_per_race = []\n",
    "    for i in range(len(times)):\n",
    "        time, distance = times[i], distances[i]\n",
    "        wins = calculate_wins(time, distance)\n",
    "        wins_per_race.append(wins)\n",
    "    return wins_per_race\n",
    "\n",
    "def solve_part1(data):\n",
    "    times, distances = parse_races(data)\n",
    "    wins_per_race = process_races(times, distances)\n",
    "    answer = math.prod(wins_per_race)\n",
    "    return answer"
   ]
  },
  {
   "cell_type": "code",
   "execution_count": 9,
   "id": "5f359e2a-6a63-4e65-99e4-3fcbebfc2b6d",
   "metadata": {},
   "outputs": [
    {
     "data": {
      "text/plain": [
       "800280"
      ]
     },
     "execution_count": 9,
     "metadata": {},
     "output_type": "execute_result"
    }
   ],
   "source": [
    "solve_part1(data)"
   ]
  },
  {
   "cell_type": "markdown",
   "id": "b053cde9-de11-49e4-940e-0932f30c09b2",
   "metadata": {},
   "source": [
    "## Part 2\n",
    "As the race is about to start, you realize the piece of paper with race times and record distances you got earlier actually just has very bad kerning. There's really only one race - ignore the spaces between the numbers on each line.\n",
    "\n",
    "So, the example from before:\n",
    "```\n",
    "Time:      7  15   30\n",
    "Distance:  9  40  200\n",
    "```\n",
    "...now instead means this:\n",
    "```\n",
    "Time:      71530\n",
    "Distance:  940200\n",
    "```\n",
    "Now, you have to figure out how many ways there are to win this single race. In this example, the race lasts for 71530 milliseconds and the record distance you need to beat is 940200 millimeters. You could hold the button anywhere from 14 to 71516 milliseconds and beat the record, a total of 71503 ways!\n",
    "\n",
    "How many ways can you beat the record in this one much longer race?"
   ]
  },
  {
   "cell_type": "code",
   "execution_count": 10,
   "id": "53e1cb6d-f745-48dd-b4f7-85ce5de88d2b",
   "metadata": {},
   "outputs": [],
   "source": [
    "def parse_races_pt2(data):\n",
    "    time = int(data.splitlines()[0].split(':')[1].replace(' ', ''))\n",
    "    distance = int(data.splitlines()[1].split(':')[1].replace(' ', ''))\n",
    "    return time, distance\n",
    "\n",
    "def quadratic_equation(time, distance):\n",
    "    plus = math.ceil((-time + math.sqrt(time**2 - 4 * -1 * -distance)) / (2 * -1))\n",
    "    minus = math.floor((-time - math.sqrt(time**2 - 4 * -1 * -distance)) / (2 * -1))\n",
    "    return plus, minus\n",
    "\n",
    "def solve_part2(data):\n",
    "    time, distance = parse_races_pt2(data)\n",
    "    low, high = quadratic_equation(time, distance)\n",
    "    combinations = abs(high - low) + 1\n",
    "    return combinations"
   ]
  },
  {
   "cell_type": "code",
   "execution_count": 11,
   "id": "2c99a87f-4909-4096-af20-d1d0ec85c212",
   "metadata": {},
   "outputs": [
    {
     "data": {
      "text/plain": [
       "45128024"
      ]
     },
     "execution_count": 11,
     "metadata": {},
     "output_type": "execute_result"
    }
   ],
   "source": [
    "solve_part2(data)"
   ]
  }
 ],
 "metadata": {
  "kernelspec": {
   "display_name": "Python 3 (ipykernel)",
   "language": "python",
   "name": "python3"
  },
  "language_info": {
   "codemirror_mode": {
    "name": "ipython",
    "version": 3
   },
   "file_extension": ".py",
   "mimetype": "text/x-python",
   "name": "python",
   "nbconvert_exporter": "python",
   "pygments_lexer": "ipython3",
   "version": "3.9.6"
  }
 },
 "nbformat": 4,
 "nbformat_minor": 5
}
