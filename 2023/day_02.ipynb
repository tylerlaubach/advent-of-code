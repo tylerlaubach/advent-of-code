{
 "cells": [
  {
   "cell_type": "code",
   "execution_count": 7,
   "id": "9a918d55-bd5a-4e48-8cbf-68e92be19e41",
   "metadata": {},
   "outputs": [],
   "source": [
    "import os\n",
    "import re\n",
    "import math\n",
    "from dotenv import load_dotenv\n",
    "from aocd import get_data"
   ]
  },
  {
   "cell_type": "code",
   "execution_count": 8,
   "id": "b72b92ca-2dc9-4703-befd-fdfda8ec859a",
   "metadata": {},
   "outputs": [],
   "source": [
    "load_dotenv()\n",
    "secret_key = os.getenv(\"SECRET_KEY\")\n",
    "os.environ['AOC_SESSION'] = secret_key\n",
    "\n",
    "data = get_data(year=2023, day=2)"
   ]
  },
  {
   "cell_type": "code",
   "execution_count": null,
   "id": "ab4dc8aa",
   "metadata": {
    "scrolled": true
   },
   "outputs": [],
   "source": [
    "### PART 1\n",
    "\n",
    "'''\n",
    "As you walk, the Elf shows you a small bag and some cubes which are either red, green, or blue. Each time you play this game,\n",
    "he will hide a secret number of cubes of each color in the bag, and your goal is to figure out information about the number of cubes.\n",
    "\n",
    "To get information, once a bag has been loaded with cubes, the Elf will reach into the bag, grab a handful of random cubes,\n",
    "show them to you, and then put them back in the bag. He'll do this a few times per game.\n",
    "\n",
    "You play several games and record the information from each game (your puzzle input). Each game is listed with its ID number\n",
    "(like the 11 in Game 11: ...) followed by a semicolon-separated list of subsets of cubes that were revealed from the bag\n",
    "(like 3 red, 5 green, 4 blue).\n",
    "\n",
    "For example, the record of a few games might look like this:\n",
    "\n",
    "Game 1: 3 blue, 4 red; 1 red, 2 green, 6 blue; 2 green\n",
    "Game 2: 1 blue, 2 green; 3 green, 4 blue, 1 red; 1 green, 1 blue\n",
    "Game 3: 8 green, 6 blue, 20 red; 5 blue, 4 red, 13 green; 5 green, 1 red\n",
    "Game 4: 1 green, 3 red, 6 blue; 3 green, 6 red; 3 green, 15 blue, 14 red\n",
    "Game 5: 6 red, 1 blue, 3 green; 2 blue, 1 red, 2 green\n",
    "In game 1, three sets of cubes are revealed from the bag (and then put back again).\n",
    "The first set is 3 blue cubes and 4 red cubes; the second set is 1 red cube, 2 green cubes, and 6 blue cubes;\n",
    "the third set is only 2 green cubes.\n",
    "\n",
    "The Elf would first like to know which games would have been possible if the bag contained only 12 red cubes, 13 green cubes,\n",
    "and 14 blue cubes?\n",
    "\n",
    "In the example above, games 1, 2, and 5 would have been possible if the bag had been loaded with that configuration.\n",
    "However, game 3 would have been impossible because at one point the Elf showed you 20 red cubes at once;\n",
    "similarly, game 4 would also have been impossible because the Elf showed you 15 blue cubes at once.\n",
    "If you add up the IDs of the games that would have been possible, you get 8.\n",
    "\n",
    "Determine which games would have been possible if the bag had been loaded with only 12 red cubes, 13 green cubes, and 14 blue cubes.\n",
    "What is the sum of the IDs of those games?\n",
    "'''"
   ]
  },
  {
   "cell_type": "code",
   "execution_count": 6,
   "id": "219bea6f",
   "metadata": {},
   "outputs": [
    {
     "name": "stdout",
     "output_type": "stream",
     "text": [
      "1931\n"
     ]
    }
   ],
   "source": [
    "# Specify max values\n",
    "max_values = {'red':12, 'green':13, 'blue':14}\n",
    "\n",
    "possible_games = []\n",
    "\n",
    "for line in data.splitlines():\n",
    "    possible = True\n",
    "    # Get game number\n",
    "    game_num = int(line.split(': ')[0].split()[1])\n",
    "    # Split game into reveals\n",
    "    reveals = line.split(': ')[1].split('; ')\n",
    "    for reveal in reveals:\n",
    "        # Split reveal per cube\n",
    "        cubes = reveal.split(', ')\n",
    "        for cube in cubes:\n",
    "            # Split each cube into number and color\n",
    "            cube_vals = cube.split()\n",
    "            cube_num, cube_color = int(cube_vals[0]), cube_vals[1]\n",
    "            if cube_num > max_values[cube_color]:\n",
    "                possible = False\n",
    "    if possible:\n",
    "        possible_games.append(game_num)\n",
    "\n",
    "answer = sum(possible_games)\n",
    "print(answer)"
   ]
  },
  {
   "cell_type": "code",
   "execution_count": null,
   "id": "0ce67914",
   "metadata": {},
   "outputs": [],
   "source": [
    "### PART 2\n",
    "\n",
    "'''\n",
    "PROMPT:\n",
    "\n",
    "As you continue your walk, the Elf poses a second question: in each game you played, what is the fewest number of cubes of each color that could have been in the bag to make the game possible?\n",
    "\n",
    "Again consider the example games from earlier:\n",
    "\n",
    "Game 1: 3 blue, 4 red; 1 red, 2 green, 6 blue; 2 green\n",
    "Game 2: 1 blue, 2 green; 3 green, 4 blue, 1 red; 1 green, 1 blue\n",
    "Game 3: 8 green, 6 blue, 20 red; 5 blue, 4 red, 13 green; 5 green, 1 red\n",
    "Game 4: 1 green, 3 red, 6 blue; 3 green, 6 red; 3 green, 15 blue, 14 red\n",
    "Game 5: 6 red, 1 blue, 3 green; 2 blue, 1 red, 2 green\n",
    "In game 1, the game could have been played with as few as 4 red, 2 green, and 6 blue cubes. If any color had even one fewer cube, the game would have been impossible.\n",
    "Game 2 could have been played with a minimum of 1 red, 3 green, and 4 blue cubes.\n",
    "Game 3 must have been played with at least 20 red, 13 green, and 6 blue cubes.\n",
    "Game 4 required at least 14 red, 3 green, and 15 blue cubes.\n",
    "Game 5 needed no fewer than 6 red, 3 green, and 2 blue cubes in the bag.\n",
    "The power of a set of cubes is equal to the numbers of red, green, and blue cubes multiplied together. The power of the minimum set of cubes in game 1 is 48. In games 2-5 it was 12, 1560, 630, and 36, respectively. Adding up these five powers produces the sum 2286.\n",
    "\n",
    "For each game, find the minimum set of cubes that must have been present. What is the sum of the power of these sets?\n",
    "'''"
   ]
  },
  {
   "cell_type": "code",
   "execution_count": 9,
   "id": "524dcdf5",
   "metadata": {},
   "outputs": [
    {
     "name": "stdout",
     "output_type": "stream",
     "text": [
      "83105\n"
     ]
    }
   ],
   "source": [
    "products = []\n",
    "\n",
    "for game in data.splitlines():\n",
    "    game_values = {'blue':[], 'red':[], 'green':[]}\n",
    "    # Split game into reveals\n",
    "    reveals = game.split(': ')[1].split('; ')\n",
    "    for reveal in reveals:\n",
    "        # Split reveal per cube\n",
    "        cubes = reveal.split(', ')\n",
    "        for cube in cubes:\n",
    "            # Split each cube into number and color\n",
    "            cube_vals = cube.split()\n",
    "            cube_num, cube_color = int(cube_vals[0]), cube_vals[1]\n",
    "            game_values[cube_color].append(cube_num)\n",
    "    max_values = []\n",
    "    for key in game_values.keys():\n",
    "        max_values.append(max(game_values[key]))\n",
    "    product = math.prod(max_values)\n",
    "    products.append(product)\n",
    "\n",
    "answer = sum(products)\n",
    "print(answer)"
   ]
  }
 ],
 "metadata": {
  "kernelspec": {
   "display_name": "Python 3 (ipykernel)",
   "language": "python",
   "name": "python3"
  },
  "language_info": {
   "codemirror_mode": {
    "name": "ipython",
    "version": 3
   },
   "file_extension": ".py",
   "mimetype": "text/x-python",
   "name": "python",
   "nbconvert_exporter": "python",
   "pygments_lexer": "ipython3",
   "version": "3.9.6"
  }
 },
 "nbformat": 4,
 "nbformat_minor": 5
}
