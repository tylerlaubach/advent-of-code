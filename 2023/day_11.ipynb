{
 "cells": [
  {
   "cell_type": "code",
   "execution_count": 13,
   "id": "9a918d55-bd5a-4e48-8cbf-68e92be19e41",
   "metadata": {},
   "outputs": [],
   "source": [
    "import os\n",
    "from dotenv import load_dotenv\n",
    "from aocd import get_data\n",
    "\n",
    "from itertools import combinations"
   ]
  },
  {
   "cell_type": "code",
   "execution_count": 2,
   "id": "b72b92ca-2dc9-4703-befd-fdfda8ec859a",
   "metadata": {},
   "outputs": [],
   "source": [
    "load_dotenv()\n",
    "secret_key = os.getenv(\"SECRET_KEY\")\n",
    "os.environ['AOC_SESSION'] = secret_key\n",
    "\n",
    "data = get_data(year=2023, day=11)"
   ]
  },
  {
   "cell_type": "markdown",
   "id": "49814c6d-dd0b-4cb9-8a8c-dfb0f296c651",
   "metadata": {
    "scrolled": true
   },
   "source": [
    "## Part 1\n",
    "The researcher has collected a bunch of data and compiled the data into a single giant image (your puzzle input). The image includes empty space (.) and galaxies (#). For example:\n",
    "```\n",
    "...#......\n",
    ".......#..\n",
    "#.........\n",
    "..........\n",
    "......#...\n",
    ".#........\n",
    ".........#\n",
    "..........\n",
    ".......#..\n",
    "#...#.....\n",
    "```\n",
    "The researcher is trying to figure out the sum of the lengths of the shortest path between every pair of galaxies. However, there's a catch: the universe expanded in the time it took the light from those galaxies to reach the observatory.\n",
    "\n",
    "Due to something involving gravitational effects, only some space expands. In fact, the result is that any rows or columns that contain no galaxies should all actually be twice as big.\n",
    "\n",
    "In the above example, three columns and two rows contain no galaxies:\n",
    "```\n",
    "   v  v  v\n",
    " ...#......\n",
    " .......#..\n",
    " #.........\n",
    ">..........<\n",
    " ......#...\n",
    " .#........\n",
    " .........#\n",
    ">..........<\n",
    " .......#..\n",
    " #...#.....\n",
    "   ^  ^  ^\n",
    "```\n",
    "These rows and columns need to be twice as big; the result of cosmic expansion therefore looks like this:\n",
    "```\n",
    "....#........\n",
    ".........#...\n",
    "#............\n",
    ".............\n",
    ".............\n",
    "........#....\n",
    ".#...........\n",
    "............#\n",
    ".............\n",
    ".............\n",
    ".........#...\n",
    "#....#.......\n",
    "```\n",
    "Equipped with this expanded universe, the shortest path between every pair of galaxies can be found. It can help to assign every galaxy a unique number:\n",
    "```\n",
    "....1........\n",
    ".........2...\n",
    "3............\n",
    ".............\n",
    ".............\n",
    "........4....\n",
    ".5...........\n",
    "............6\n",
    ".............\n",
    ".............\n",
    ".........7...\n",
    "8....9.......\n",
    "```\n",
    "In these 9 galaxies, there are 36 pairs. Only count each pair once; order within the pair doesn't matter. For each pair, find any shortest path between the two galaxies using only steps that move up, down, left, or right exactly one . or # at a time. (The shortest path between two galaxies is allowed to pass through another galaxy.)\n",
    "\n",
    "For example, here is one of the shortest paths between galaxies 5 and 9:\n",
    "```\n",
    "....1........\n",
    ".........2...\n",
    "3............\n",
    ".............\n",
    ".............\n",
    "........4....\n",
    ".5...........\n",
    ".##.........6\n",
    "..##.........\n",
    "...##........\n",
    "....##...7...\n",
    "8....9.......\n",
    "```\n",
    "This path has length 9 because it takes a minimum of nine steps to get from galaxy 5 to galaxy 9 (the eight locations marked # plus the step onto galaxy 9 itself). Here are some other example shortest path lengths:\n",
    "- Between galaxy 1 and galaxy 7: 15\n",
    "- Between galaxy 3 and galaxy 6: 17\n",
    "- Between galaxy 8 and galaxy 9: 5\n",
    "In this example, after expanding the universe, the sum of the shortest path between all 36 pairs of galaxies is 374.\n",
    "\n",
    "Expand the universe, then find the length of the shortest path between every pair of galaxies. What is the sum of these lengths?"
   ]
  },
  {
   "cell_type": "code",
   "execution_count": 14,
   "id": "6ea0a2cf-c18b-4d66-a35a-b93ee00d38fd",
   "metadata": {},
   "outputs": [],
   "source": [
    "def map_universe(universe):\n",
    "    height = len(universe.splitlines())\n",
    "    width = len(universe.splitlines()[0])\n",
    "    galaxies = []\n",
    "    for row_num,row in enumerate(universe.splitlines()):\n",
    "        for col_num,char in enumerate(row):\n",
    "            if char == '#':\n",
    "                galaxies.append((row_num, col_num))\n",
    "    return height, width, galaxies\n",
    "\n",
    "def expand_universe(universe: str, height: int, width: int, galaxies: list):\n",
    "    expanded = []\n",
    "\n",
    "    galaxy_rows = set(xy[0] for xy in galaxies)\n",
    "    galaxy_cols = set(xy[1] for xy in galaxies)\n",
    "    empty_rows = [i for i in range(height) if i not in galaxy_rows]\n",
    "    empty_cols = [i for i in range(width) if i not in galaxy_cols]\n",
    "\n",
    "    for row_num,row in enumerate(universe.splitlines()):\n",
    "        new_line = []\n",
    "        for col_num,char in enumerate(row):\n",
    "            new_line.append(char)\n",
    "            if col_num in empty_cols: new_line.append('.')\n",
    "        line = ''.join(new_line)\n",
    "        expanded.append(line)\n",
    "        if row_num in empty_rows: expanded.append('.' * len(line))\n",
    "    return '\\n'.join(expanded)\n",
    "\n",
    "def get_distances(pairs):\n",
    "    distances = []\n",
    "    for pair in pairs:\n",
    "        distance = abs(pair[0][0] - pair[1][0]) + abs(pair[0][1] - pair[1][1])\n",
    "        distances.append(distance)\n",
    "    return distances\n",
    "\n",
    "def solve_part1(data):\n",
    "    height, width, galaxies = map_universe(data)\n",
    "    expanded = expand_universe(data, height, width, galaxies)\n",
    "    height, width, galaxies = map_universe(expanded)\n",
    "    galaxy_pairs = list(combinations(galaxies, 2))\n",
    "    distances = get_distances(galaxy_pairs)\n",
    "    return sum(distances)"
   ]
  },
  {
   "cell_type": "code",
   "execution_count": 15,
   "id": "5f359e2a-6a63-4e65-99e4-3fcbebfc2b6d",
   "metadata": {},
   "outputs": [
    {
     "data": {
      "text/plain": [
       "9724940"
      ]
     },
     "execution_count": 15,
     "metadata": {},
     "output_type": "execute_result"
    }
   ],
   "source": [
    "solve_part1(data)"
   ]
  },
  {
   "cell_type": "markdown",
   "id": "b053cde9-de11-49e4-940e-0932f30c09b2",
   "metadata": {},
   "source": [
    "## Part 2"
   ]
  },
  {
   "cell_type": "code",
   "execution_count": 20,
   "id": "44b3e8bd-079c-4b5b-bee0-b1a5eb16c3d0",
   "metadata": {},
   "outputs": [],
   "source": [
    "def get_empty(height: int, width: int, galaxies: list):\n",
    "    galaxy_rows = set(xy[0] for xy in galaxies)\n",
    "    galaxy_cols = set(xy[1] for xy in galaxies)\n",
    "    empty_rows = [i for i in range(height) if i not in galaxy_rows]\n",
    "    empty_cols = [i for i in range(width) if i not in galaxy_cols]\n",
    "    return empty_rows, empty_cols\n",
    "\n",
    "def calculate_distances(pairs, empty_rows, empty_cols):\n",
    "    distances = []\n",
    "    for pair in pairs:\n",
    "        distance = 0\n",
    "        \n",
    "        rows = [pair[0][0], pair[1][0]]\n",
    "        if rows[0] != rows[1]:\n",
    "            rows.sort()\n",
    "            for i in range(rows[0], rows[1]):\n",
    "                if i in empty_rows:\n",
    "                    distance += 1000000\n",
    "                else:\n",
    "                    distance += 1\n",
    "                    \n",
    "        cols = [pair[0][1], pair[1][1]]\n",
    "        if cols[0] != cols[1]:\n",
    "            cols.sort()\n",
    "            for i in range(cols[0], cols[1]):\n",
    "                if i in empty_cols:\n",
    "                    distance += 1000000\n",
    "                else:\n",
    "                    distance += 1\n",
    "        \n",
    "        distances.append(distance)\n",
    "    return distances\n",
    "\n",
    "def solve_part2(data):\n",
    "    height, width, galaxies = map_universe(data)\n",
    "    empty_rows, empty_cols = get_empty(height, width, galaxies)\n",
    "    galaxy_pairs = list(combinations(galaxies, 2))\n",
    "    distances = calculate_distances(galaxy_pairs, empty_rows, empty_cols)\n",
    "    return sum(distances)"
   ]
  },
  {
   "cell_type": "code",
   "execution_count": 21,
   "id": "2c99a87f-4909-4096-af20-d1d0ec85c212",
   "metadata": {},
   "outputs": [
    {
     "data": {
      "text/plain": [
       "569052586852"
      ]
     },
     "execution_count": 21,
     "metadata": {},
     "output_type": "execute_result"
    }
   ],
   "source": [
    "solve_part2(data)"
   ]
  }
 ],
 "metadata": {
  "kernelspec": {
   "display_name": "Python 3 (ipykernel)",
   "language": "python",
   "name": "python3"
  },
  "language_info": {
   "codemirror_mode": {
    "name": "ipython",
    "version": 3
   },
   "file_extension": ".py",
   "mimetype": "text/x-python",
   "name": "python",
   "nbconvert_exporter": "python",
   "pygments_lexer": "ipython3",
   "version": "3.9.6"
  }
 },
 "nbformat": 4,
 "nbformat_minor": 5
}
